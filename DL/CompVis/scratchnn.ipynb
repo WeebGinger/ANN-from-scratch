{
 "cells": [
  {
   "cell_type": "code",
   "execution_count": 485,
   "metadata": {},
   "outputs": [],
   "source": [
    "import numpy as np\n",
    "import keras"
   ]
  },
  {
   "cell_type": "code",
   "execution_count": 486,
   "metadata": {},
   "outputs": [],
   "source": [
    "(X_train, y_train), (X_test, y_test) = keras.datasets.mnist.load_data()"
   ]
  },
  {
   "cell_type": "code",
   "execution_count": 487,
   "metadata": {},
   "outputs": [
    {
     "data": {
      "text/plain": [
       "((60000, 28, 28), (60000,), (10000, 28, 28), (10000,))"
      ]
     },
     "execution_count": 487,
     "metadata": {},
     "output_type": "execute_result"
    }
   ],
   "source": [
    "X_train.shape, y_train.shape, X_test.shape, y_test.shape"
   ]
  },
  {
   "cell_type": "code",
   "execution_count": 488,
   "metadata": {},
   "outputs": [],
   "source": [
    "def categorical(y):\n",
    "    a = np.zeros(y.shape+(10,))\n",
    "    n = y.shape[0]\n",
    "    for i in range(n):\n",
    "        a[i][y[i]] = 1\n",
    "    return a"
   ]
  },
  {
   "cell_type": "code",
   "execution_count": 489,
   "metadata": {},
   "outputs": [],
   "source": [
    "X_train = X_train.reshape((60000,1,784))/255\n",
    "X_test = X_test.reshape((10000,1,784))/255\n",
    "y_train = categorical(y_train)\n",
    "y_test = categorical(y_test)"
   ]
  },
  {
   "cell_type": "code",
   "execution_count": 490,
   "metadata": {},
   "outputs": [],
   "source": [
    "sigmoid = lambda z: 1/(1+np.exp(-z))\n",
    "D_sigmoid = lambda z: sigmoid(z)*(1-sigmoid(z))"
   ]
  },
  {
   "cell_type": "code",
   "execution_count": 491,
   "metadata": {},
   "outputs": [],
   "source": [
    "def softmax(z):\n",
    "    e = np.exp(z- np.max(z))\n",
    "    return e/np.sum(e)"
   ]
  },
  {
   "cell_type": "code",
   "execution_count": 492,
   "metadata": {},
   "outputs": [],
   "source": [
    "relu = lambda z: np.maximum(0,z)\n",
    "D_relu = lambda z: np.where(z > 0, 1, 0)"
   ]
  },
  {
   "cell_type": "code",
   "execution_count": 493,
   "metadata": {},
   "outputs": [],
   "source": [
    "w1 = np.random.random((28*28, 64))\n",
    "w2 = np.random.random((64, 10))\n",
    "b1 = np.random.random((1,64))\n",
    "b2 = np.random.random((1,10))"
   ]
  },
  {
   "cell_type": "code",
   "execution_count": 494,
   "metadata": {},
   "outputs": [],
   "source": [
    "def forwadprop(inpt,w1,w2,b1,b2):\n",
    "    z1 = np.dot(inpt, w1) + b1\n",
    "    o1 = relu(z1)\n",
    "    z2 = np.dot(o1, w2) + b2\n",
    "    o2 = sigmoid(z2)\n",
    "    return z1, o1, z2, o2"
   ]
  },
  {
   "cell_type": "code",
   "execution_count": 495,
   "metadata": {},
   "outputs": [
    {
     "data": {
      "text/plain": [
       "(array([[53.08399386, 54.41538575, 56.59819484, 57.24994369, 54.31071604,\n",
       "         54.39733042, 59.32823098, 56.18316099, 52.23957931, 56.70038958,\n",
       "         51.96635464, 53.20944178, 53.44900097, 54.72778333, 51.85262223,\n",
       "         53.05016685, 51.72017455, 52.9331423 , 56.99602398, 54.95701023,\n",
       "         53.78168252, 53.67308526, 51.01503466, 59.49724621, 60.54210614,\n",
       "         56.12571819, 52.38321804, 55.96861562, 52.98066626, 58.06156664,\n",
       "         52.04701119, 49.48947337, 54.48132024, 53.94221097, 51.49642752,\n",
       "         48.24138447, 56.65546637, 55.30780337, 55.48905904, 56.75890554,\n",
       "         54.3922564 , 59.43506824, 50.99418879, 52.48611355, 59.58972984,\n",
       "         55.12247732, 54.83247918, 49.05009795, 58.66445671, 53.96585625,\n",
       "         50.652149  , 56.16536318, 51.91051825, 62.1409671 , 53.87827245,\n",
       "         59.91740296, 59.00292825, 54.99258965, 55.25688253, 56.79712674,\n",
       "         54.74354295, 54.5881383 , 51.65505342, 53.5715266 ]]),\n",
       " array([[53.08399386, 54.41538575, 56.59819484, 57.24994369, 54.31071604,\n",
       "         54.39733042, 59.32823098, 56.18316099, 52.23957931, 56.70038958,\n",
       "         51.96635464, 53.20944178, 53.44900097, 54.72778333, 51.85262223,\n",
       "         53.05016685, 51.72017455, 52.9331423 , 56.99602398, 54.95701023,\n",
       "         53.78168252, 53.67308526, 51.01503466, 59.49724621, 60.54210614,\n",
       "         56.12571819, 52.38321804, 55.96861562, 52.98066626, 58.06156664,\n",
       "         52.04701119, 49.48947337, 54.48132024, 53.94221097, 51.49642752,\n",
       "         48.24138447, 56.65546637, 55.30780337, 55.48905904, 56.75890554,\n",
       "         54.3922564 , 59.43506824, 50.99418879, 52.48611355, 59.58972984,\n",
       "         55.12247732, 54.83247918, 49.05009795, 58.66445671, 53.96585625,\n",
       "         50.652149  , 56.16536318, 51.91051825, 62.1409671 , 53.87827245,\n",
       "         59.91740296, 59.00292825, 54.99258965, 55.25688253, 56.79712674,\n",
       "         54.74354295, 54.5881383 , 51.65505342, 53.5715266 ]]),\n",
       " array([[1944.15271339, 1732.9401192 , 1844.32971801, 1728.11472972,\n",
       "         1711.67813134, 1578.45607992, 1802.71683435, 1788.8227382 ,\n",
       "         1738.84731092, 1796.01554764]]),\n",
       " array([[1., 1., 1., 1., 1., 1., 1., 1., 1., 1.]]))"
      ]
     },
     "execution_count": 495,
     "metadata": {},
     "output_type": "execute_result"
    }
   ],
   "source": [
    "forwadprop(X_train[0],w1,w2,b1,b2)"
   ]
  },
  {
   "cell_type": "code",
   "execution_count": 496,
   "metadata": {},
   "outputs": [],
   "source": [
    "def logloss(y,o2):\n",
    "    loss = -y*np.log10(o2+1e-15) - (1-y)*np.log10(1-o2+1e-15)\n",
    "    return loss\n",
    "\n",
    "def crossentropyloss(y,o2):\n",
    "    n = y.shape[0]\n",
    "    loss = -np.sum(y * np.log(o2 + 1e-15))/n\n",
    "    return loss"
   ]
  },
  {
   "cell_type": "code",
   "execution_count": 497,
   "metadata": {},
   "outputs": [],
   "source": [
    "def backprop(x,y,w1,w2,o1,o2,z1,z2):\n",
    "    err = o2 - y\n",
    "    do2 = err*D_sigmoid(o2)\n",
    "    do1 = do2.dot(w2.T) * D_sigmoid(o1)\n",
    "\n",
    "    dw2 = o1.T.dot(do2)\n",
    "    dw1 = x.T.dot(do1)\n",
    "\n",
    "    db2 = do2\n",
    "    db1 = do1\n",
    "    \n",
    "    return dw1, db1, dw2, db2"
   ]
  },
  {
   "cell_type": "code",
   "execution_count": 498,
   "metadata": {},
   "outputs": [],
   "source": [
    "def predict(X):\n",
    "    pred = []\n",
    "    for i in X:\n",
    "        _,_,_, output = forwadprop(i,w1,w2,b1,b2)\n",
    "        pred.append(output)\n",
    "    return np.array(pred)"
   ]
  },
  {
   "cell_type": "code",
   "execution_count": 499,
   "metadata": {},
   "outputs": [],
   "source": [
    "def train(X,Y,w1,w2,b1,b2,lr=0.001,epochs=30):\n",
    "    n = X.shape[0]\n",
    "    for j in range(epochs):\n",
    "        print(f\"epoch: {j+1}\")\n",
    "        total_loss = 0\n",
    "        for i in range(n):\n",
    "            z1, o1, z2, o2 = forwadprop(X[i],w1,w2,b1,b2)\n",
    "            dw1, db1, dw2, db2 = backprop(X[i],Y[i],w1,w2,o1,o2,z1,z2)\n",
    "            w1 -= lr*dw1\n",
    "            w2 -= lr*dw2\n",
    "            b1 -= lr*db1\n",
    "            b2 -= lr*db2\n",
    "            total_loss += crossentropyloss(Y[i], o2)/n\n",
    "        y_pred = predict(X)\n",
    "        predictions = [np.argmax(i) for i in y_pred]\n",
    "        accuracy = np.mean(predictions == np.argmax(Y, axis=1))\n",
    "        print(F\"accuracy: {accuracy}\")\n",
    "        print(f\"loss: {total_loss}\")"
   ]
  },
  {
   "cell_type": "code",
   "execution_count": 500,
   "metadata": {},
   "outputs": [
    {
     "name": "stdout",
     "output_type": "stream",
     "text": [
      "epoch: 1\n",
      "accuracy: 0.6674666666666667\n",
      "loss: 0.9660165757487037\n",
      "epoch: 2\n",
      "accuracy: 0.7426666666666667\n",
      "loss: 0.681912860173418\n",
      "epoch: 3\n",
      "accuracy: 0.76975\n",
      "loss: 0.6205971833119931\n",
      "epoch: 4\n",
      "accuracy: 0.7851666666666667\n",
      "loss: 0.5864160148048536\n",
      "epoch: 5\n",
      "accuracy: 0.7650333333333333\n",
      "loss: 0.5690489281787364\n",
      "epoch: 6\n",
      "accuracy: 0.7706333333333333\n",
      "loss: 0.5565535241759817\n",
      "epoch: 7\n",
      "accuracy: 0.7644333333333333\n",
      "loss: 0.5454772972400749\n",
      "epoch: 8\n",
      "accuracy: 0.7882\n",
      "loss: 0.5407898674043932\n",
      "epoch: 9\n",
      "accuracy: 0.77525\n",
      "loss: 0.5329061264098608\n",
      "epoch: 10\n",
      "accuracy: 0.7842\n",
      "loss: 0.5265484971718744\n",
      "epoch: 11\n",
      "accuracy: 0.7845666666666666\n",
      "loss: 0.5201352562138497\n",
      "epoch: 12\n",
      "accuracy: 0.7724166666666666\n",
      "loss: 0.5192465048481186\n",
      "epoch: 13\n",
      "accuracy: 0.7605666666666666\n",
      "loss: 0.5147386008965925\n",
      "epoch: 14\n",
      "accuracy: 0.7697666666666667\n",
      "loss: 0.5135258047821752\n",
      "epoch: 15\n",
      "accuracy: 0.7699833333333334\n",
      "loss: 0.5106251798187856\n",
      "epoch: 16\n",
      "accuracy: 0.7596\n",
      "loss: 0.5104661650472136\n",
      "epoch: 17\n",
      "accuracy: 0.7679\n",
      "loss: 0.5072563779964381\n",
      "epoch: 18\n",
      "accuracy: 0.76945\n",
      "loss: 0.5060344701286191\n",
      "epoch: 19\n",
      "accuracy: 0.7767333333333334\n",
      "loss: 0.5036909603681633\n",
      "epoch: 20\n",
      "accuracy: 0.7727333333333334\n",
      "loss: 0.5031111686729651\n",
      "epoch: 21\n",
      "accuracy: 0.7768\n",
      "loss: 0.5003227670139666\n",
      "epoch: 22\n",
      "accuracy: 0.7788666666666667\n",
      "loss: 0.49924589943202047\n",
      "epoch: 23\n",
      "accuracy: 0.7796666666666666\n",
      "loss: 0.49867801075775586\n",
      "epoch: 24\n",
      "accuracy: 0.7872833333333333\n",
      "loss: 0.4971069519963367\n",
      "epoch: 25\n",
      "accuracy: 0.7861666666666667\n",
      "loss: 0.49825542303874587\n",
      "epoch: 26\n",
      "accuracy: 0.7759333333333334\n",
      "loss: 0.49789738714269444\n",
      "epoch: 27\n",
      "accuracy: 0.7937833333333333\n",
      "loss: 0.49631273655926705\n",
      "epoch: 28\n",
      "accuracy: 0.7921666666666667\n",
      "loss: 0.49623267203041377\n",
      "epoch: 29\n",
      "accuracy: 0.786\n",
      "loss: 0.4958350874837019\n",
      "epoch: 30\n",
      "accuracy: 0.7906166666666666\n",
      "loss: 0.49709624811770103\n"
     ]
    }
   ],
   "source": [
    "train(X_train, y_train, w1,w2,b1,b2)"
   ]
  },
  {
   "cell_type": "markdown",
   "metadata": {},
   "source": [
    "### The highest accuracy was 0.7938 percent which is okay for a simple Feed Forward Neural Network"
   ]
  }
 ],
 "metadata": {
  "kernelspec": {
   "display_name": "Python 3",
   "language": "python",
   "name": "python3"
  },
  "language_info": {
   "codemirror_mode": {
    "name": "ipython",
    "version": 3
   },
   "file_extension": ".py",
   "mimetype": "text/x-python",
   "name": "python",
   "nbconvert_exporter": "python",
   "pygments_lexer": "ipython3",
   "version": "3.12.6"
  }
 },
 "nbformat": 4,
 "nbformat_minor": 2
}
